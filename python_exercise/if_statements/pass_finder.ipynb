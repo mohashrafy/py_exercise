{
 "cells": [
  {
   "cell_type": "markdown",
   "id": "dbc8764e-0c5a-4d0f-89c6-8037f7917092",
   "metadata": {},
   "source": [
    "# Password/Pincode Finder"
   ]
  },
  {
   "cell_type": "markdown",
   "id": "94d39126-67e7-48fe-add2-f7e2e5dc5155",
   "metadata": {},
   "source": [
    "James lost his password. He rememberred that the password have different conditions, as described in below: <br>\n",
    " 1- The password is a five digit number. <br>\n",
    " 2- The sum of the third and fivth digits of the pin code must be 14. <br>\n",
    " 3- The first digit equals to the two times of the second digit minus one. <br>\n",
    " 4- The forth digit equals to the second digit plus one. <br>\n",
    " 5- The sum of the two and third digits must be 10. <br>\n",
    " 6- The sum of the all digits must be 30. <br>\n",
    "\n",
    "Make a python code (in both simple and function methods) to find his pin code. "
   ]
  },
  {
   "cell_type": "markdown",
   "id": "1df0fdaf",
   "metadata": {},
   "source": [
    "### Solution "
   ]
  },
  {
   "cell_type": "code",
   "execution_count": 3,
   "id": "50b1973d-13fa-4370-b2ee-a49ff80bf856",
   "metadata": {},
   "outputs": [
    {
     "name": "stdout",
     "output_type": "stream",
     "text": [
      "Congratulations James. The pin code has found: 53787\n"
     ]
    }
   ],
   "source": [
    "for pin in range(0, 100000):\n",
    "    str_pin = str(pin)\n",
    "    if len(str_pin) < 5:\n",
    "        str_pin = '0' * (5 - len(str_pin)) + str_pin\n",
    "    if (int(str_pin[0]) + int(str_pin[1]) + int(str_pin[2]) + int(str_pin[3]) + int(str_pin[4])) == 30:\n",
    "        if (int(str_pin[2]) + int(str_pin[4])) == 14:\n",
    "            if (int(str_pin[1]) + int(str_pin[2])) == 10:\n",
    "                if int(str_pin[3]) == (int(str_pin[2]) + 1):\n",
    "                    if int(str_pin[0]) == (2 * int(str_pin[1]) -1):\n",
    "                        print(f'Congratulations James. The pin code has found: {str_pin}')"
   ]
  },
  {
   "cell_type": "code",
   "execution_count": null,
   "id": "7b0f2371-681d-4f84-bd80-8e049977e63a",
   "metadata": {},
   "outputs": [],
   "source": []
  }
 ],
 "metadata": {
  "kernelspec": {
   "display_name": "Python 3 (ipykernel)",
   "language": "python",
   "name": "python3"
  },
  "language_info": {
   "codemirror_mode": {
    "name": "ipython",
    "version": 3
   },
   "file_extension": ".py",
   "mimetype": "text/x-python",
   "name": "python",
   "nbconvert_exporter": "python",
   "pygments_lexer": "ipython3",
   "version": "3.10.4"
  }
 },
 "nbformat": 4,
 "nbformat_minor": 5
}
